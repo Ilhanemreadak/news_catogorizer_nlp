{
 "cells": [
  {
   "cell_type": "markdown",
   "id": "1b583e97-4c89-4b96-b347-f8df14002616",
   "metadata": {},
   "source": [
    "# Model Eğitimi"
   ]
  },
  {
   "cell_type": "code",
   "execution_count": 2,
   "id": "2328d55f-b436-4d56-b1d4-9da590a12a3c",
   "metadata": {},
   "outputs": [],
   "source": [
    "from sklearn.metrics import classification_report, confusion_matrix\n",
    "from sklearn.model_selection import train_test_split\n",
    "from scipy.sparse import hstack\n",
    "from sklearn import svm\n",
    "from sklearn.feature_extraction.text import TfidfVectorizer\n",
    "import pandas as pd\n",
    "import pickle\n",
    "import matplotlib.pyplot as plt\n",
    "import seaborn as sns\n",
    "from tqdm import tqdm"
   ]
  },
  {
   "cell_type": "markdown",
   "id": "462fc406-5d89-4633-bdb9-1c061d072503",
   "metadata": {},
   "source": [
    "Daha önceden işlemeye hazır hale getirip sakladığımız dosyaları çekiyoruz."
   ]
  },
  {
   "cell_type": "code",
   "execution_count": 3,
   "id": "a1cb9346-8432-481b-b3c4-f1ab325884e0",
   "metadata": {},
   "outputs": [],
   "source": [
    "def load_data(path):\n",
    "    with open( path, 'rb') as handle:\n",
    "        dataset = pickle.load(handle)\n",
    "    return dataset"
   ]
  },
  {
   "cell_type": "code",
   "execution_count": 4,
   "id": "589d0c0d-ba53-46d2-8ee6-ed7b9acf5528",
   "metadata": {},
   "outputs": [],
   "source": [
    "with open('vectors/news_tr_word.pkl', 'rb') as handle:\n",
    "    word_tfidf = pickle.load(handle)\n",
    "\n",
    "with open('vectors/news_tr_char.pkl', 'rb') as handle:\n",
    "    char_tfidf = pickle.load(handle)"
   ]
  },
  {
   "cell_type": "code",
   "execution_count": 5,
   "id": "9b9f7c1c-8bf9-46e0-8681-f5899f06c856",
   "metadata": {},
   "outputs": [],
   "source": [
    "df_train = load_data(r\"data/news_tr_train_cleaned.pkl\")\n",
    "df_test = load_data(r\"data/news_tr_test_cleaned.pkl\")"
   ]
  },
  {
   "cell_type": "markdown",
   "id": "e0a80bad-0e2f-4e62-89a6-ae49655f2c2a",
   "metadata": {},
   "source": [
    "Veri setlerindeki metinleri, kelime ve karakter düzeyinde TF-IDF özelliklerine dönüştürdük ve daha sonra bu özellikleri birleştirdik. Sonuç olarak, her belge için birleşik bir TF-IDF özellik vektörü oluşturduk. Bu vektörleride daha sonraki adımda modelimize girdi olarak vereceğiz."
   ]
  },
  {
   "cell_type": "code",
   "execution_count": 6,
   "id": "a930b7cd-1996-47cf-94cd-40e441992683",
   "metadata": {},
   "outputs": [
    {
     "data": {
      "text/plain": [
       "(21888, 4000)"
      ]
     },
     "execution_count": 6,
     "metadata": {},
     "output_type": "execute_result"
    }
   ],
   "source": [
    "train_tf_word_transformed = word_tfidf.transform(df_train['clean_content'])\n",
    "train_tf_char_transformed = char_tfidf.transform(df_train['clean_content'])\n",
    "\n",
    "test_tf_word_transformed = word_tfidf.transform(df_test['clean_content'])\n",
    "test_tf_char_transformed = char_tfidf.transform(df_test['clean_content'])\n",
    "\n",
    "tf_train_features = hstack([train_tf_word_transformed, train_tf_char_transformed])\n",
    "tf_train_features.shape"
   ]
  },
  {
   "cell_type": "markdown",
   "id": "8ad91c87-2e6c-4fa7-a54a-e6a85c66b4fd",
   "metadata": {},
   "source": [
    "Kelime ve karakter düzeyinde TF-IDF özelliklerine dönüştürülen temizlenmiş metinlerden oluşan verileri kullanarak linear çekirdek fonksiyonuna sahip bir SVM modelimizi eğitiyoruz ve bu modele TF-IDF ile dönüştürülmüş metin verileri ve karşılık gelen kategorileri kullanarak metin sınıflandırması için gerekli olan kalıpları ve ilişkileri öğretiyoruz."
   ]
  },
  {
   "cell_type": "code",
   "execution_count": null,
   "id": "c8fd3d19-f736-4735-b6ce-9ba73bcad96f",
   "metadata": {},
   "outputs": [],
   "source": [
    "model = svm.SVC(kernel='linear', gamma='auto')\n",
    "model.fit(tf_train_features, df_train['category'])"
   ]
  },
  {
   "cell_type": "markdown",
   "id": "fd99b5b1-0891-4d9f-8dfc-0bed19447410",
   "metadata": {},
   "source": [
    "Eğitilmiş modelimizi daha sonra girdiler ile kullanmak üzere kaydediyoruz."
   ]
  },
  {
   "cell_type": "code",
   "execution_count": null,
   "id": "843ad583-86c4-4ea8-8929-0048311ff928",
   "metadata": {},
   "outputs": [],
   "source": [
    "filename ='models/news_tr_classifier_svm_model.sav'\n",
    "pickle.dump(model, open(filename, 'wb'))"
   ]
  },
  {
   "cell_type": "markdown",
   "id": "6fe9c91e-bdfc-49db-a4a3-1b5c4a636d47",
   "metadata": {},
   "source": [
    "# Model Performansı Değerlendirme"
   ]
  },
  {
   "cell_type": "markdown",
   "id": "1fcb1167-2ea7-41d3-80dc-17708155e113",
   "metadata": {},
   "source": [
    "Burada gerçek test verilerimiz ile modelimizin test verilerindeki performansını değerlendirir."
   ]
  },
  {
   "cell_type": "code",
   "execution_count": null,
   "id": "b0253d9f-8e3d-491f-b887-e7e0976470ef",
   "metadata": {},
   "outputs": [],
   "source": [
    "tf_test_featured = hstack([test_tf_word_transformed, test_tf_char_transformed])\n",
    "\n",
    "model.score(tf_test_featured, df_test['category'])"
   ]
  },
  {
   "cell_type": "markdown",
   "id": "d067ab23-48d0-4a39-9b40-edf01f00f466",
   "metadata": {},
   "source": [
    "Bu kod parçası, test veri setindeki her bir haber metni için:\n",
    "\n",
    "Kelime ve karakter düzeyinde TF-IDF özelliklerine dönüştürür.\n",
    "Bu özellikleri birleştirir.\n",
    "Eğitilmiş model kullanarak haberin kategorisini tahmin eder.\n",
    "Tahmin edilen kategoriyi ve gerçek kategoriyi ilgili listelere ekler.\n",
    "Sonuç olarak, y_pred listesi modelin tahminlerini, y_true listesi ise gerçek kategorileri içerir. Bu iki liste daha sonra modelin performansını değerlendirmek için kullanılabilir, örneğin doğruluk, hassasiyet, duyarlılık, F1 skoru gibi metrikler hesaplanabilir."
   ]
  },
  {
   "cell_type": "code",
   "execution_count": null,
   "id": "c24a1d28-2ed5-4bfa-9e43-9d74e6a81d1f",
   "metadata": {},
   "outputs": [],
   "source": [
    "y_pred = []\n",
    "y_true = []\n",
    "\n",
    "for i, news in enumerate(tqdm(df_test['clean_content'])):\n",
    "    word_transformed_news = word_tfidf.transform([news])\n",
    "    char_transformed_news = char_tfidf.transform([news])\n",
    "    news_featured = hstack([word_transformed_news, char_transformed_news])\n",
    "    result = model.predict(news_featured)[0]\n",
    "    y_pred.append(result)\n",
    "    y_true.append(df_test['category'].iloc[i])"
   ]
  },
  {
   "cell_type": "code",
   "execution_count": null,
   "id": "83fdc53a-7baa-4080-9b35-87fac513dadb",
   "metadata": {},
   "outputs": [],
   "source": [
    "labels = [\"Kültür-Sanat\",\"Ekonomi\",\"Siyaset\",\"Eğitim\",\"Dünya\",\"Spor\",\"Teknoloji\",\"Magazin\",\"Sağlık\",\"Gündem\"]\n",
    "\n",
    "print(classification_report(y_true, y_pred, target_names=labels))"
   ]
  },
  {
   "cell_type": "code",
   "execution_count": null,
   "id": "54fc2b28-3034-408e-9ca7-7e18406b9e13",
   "metadata": {},
   "outputs": [],
   "source": [
    "conf_mat = confusion_matrix(y_true, y_pred)\n",
    "fig, ax = plt.subplots(figsize=(15,7))\n",
    "sns.heatmap(conf_mat, annot=True, fmt='d',\n",
    "            xticklabels=labels, yticklabels=labels)\n",
    "plt.ylabel('Actual')\n",
    "plt.xlabel('Predicted')\n",
    "plt.show()"
   ]
  }
 ],
 "metadata": {
  "kernelspec": {
   "display_name": "Python 3 (ipykernel)",
   "language": "python",
   "name": "python3"
  },
  "language_info": {
   "codemirror_mode": {
    "name": "ipython",
    "version": 3
   },
   "file_extension": ".py",
   "mimetype": "text/x-python",
   "name": "python",
   "nbconvert_exporter": "python",
   "pygments_lexer": "ipython3",
   "version": "3.12.1"
  }
 },
 "nbformat": 4,
 "nbformat_minor": 5
}
