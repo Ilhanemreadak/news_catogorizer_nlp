{
 "cells": [
  {
   "cell_type": "markdown",
   "id": "1d79728c-0354-4384-b10e-a936ab926f68",
   "metadata": {},
   "source": [
    "# Vektörleştirme"
   ]
  },
  {
   "cell_type": "markdown",
   "id": "6551f5bb-cc7f-416e-93e6-975e8632a036",
   "metadata": {},
   "source": [
    "TF-IDF (Term Frequency-Inverse Document Frequency) vektörleştirici kullanarak haber metinlerini işliyoruz. Bu işlemin amacı, metin verilerini sayısal bir formata dönüştürerek makine öğrenmesi modellerinin bu verilerle çalışmasını sağlamaktır."
   ]
  },
  {
   "cell_type": "markdown",
   "id": "8bbb130b-4be9-4008-ba7a-1db7e730517a",
   "metadata": {},
   "source": [
    "Metin verisini sayısal forma dönüştürmek, makine öğrenmesi modellerinin metinle çalışmasını sağlar.\n",
    "Önemli Kelimeler: TF-IDF, metinlerdeki önemli kelimeleri belirleyerek modelin anlamlı özelliklere odaklanmasını sağlar.\n",
    "Boyut Azaltma: max_features ve min_df gibi parametrelerle gereksiz kelimeleri filtreleyerek veriyi daha yönetilebilir hale getirir."
   ]
  },
  {
   "cell_type": "markdown",
   "id": "dea75081-202e-47f0-959f-29283c627701",
   "metadata": {},
   "source": [
    "Kelime Tabanlı Vektörleştirici (Word-Level Vectorizer)\n",
    "Amaç: Metinleri kelime seviyesinde analiz ederek, her metni kelime frekanslarının ağırlıklı kombinasyonu olarak temsil eder. Metinlerin anlamını ve konusunu yakalamaya yardımcı olur.\n",
    "\n",
    "\n",
    "Karakter Tabanlı Vektörleştirici (Char-Level Vectorizer)\n",
    "Amaç: Metinleri karakter seviyesinde analiz ederek, her metni karakter n-gram'larının ağırlıklı kombinasyonu olarak temsil eder. Yazım hatalarını, özel dil kullanım kalıplarını ve nadir terimleri yakalamaya yardımcı olur."
   ]
  },
  {
   "cell_type": "code",
   "execution_count": 1,
   "id": "c86fbeee-09d2-413c-a82c-6aa4ad216c34",
   "metadata": {},
   "outputs": [],
   "source": [
    "from sklearn.feature_extraction.text import TfidfVectorizer\n",
    "import pandas as pd\n",
    "import pickle"
   ]
  },
  {
   "cell_type": "code",
   "execution_count": 2,
   "id": "6f18ac6a-06ff-4be0-a139-f726949d530e",
   "metadata": {},
   "outputs": [],
   "source": [
    "def load_data(path):\n",
    "    with open(path, 'rb') as handle:\n",
    "        dataset = pickle.load(handle)\n",
    "    return dataset"
   ]
  },
  {
   "cell_type": "code",
   "execution_count": 3,
   "id": "d374e574-7b60-4c56-ac8e-a828a566ae68",
   "metadata": {},
   "outputs": [],
   "source": [
    "df_train = load_data(r\"data/interpress_news_category_tr_lite_train_cleaned.pkl\")\n",
    "df_test = load_data(r\"data/interpress_news_category_tr_lite_test_cleaned.pkl\")\n",
    "\n",
    "df_all = pd.concat([df_train, df_test], ignore_index=True)"
   ]
  },
  {
   "cell_type": "code",
   "execution_count": 4,
   "id": "bc559a17-57dd-4390-b81f-63104d943d78",
   "metadata": {},
   "outputs": [
    {
     "data": {
      "text/plain": [
       "(21888, 3)"
      ]
     },
     "execution_count": 4,
     "metadata": {},
     "output_type": "execute_result"
    }
   ],
   "source": [
    "df_train.shape"
   ]
  },
  {
   "cell_type": "code",
   "execution_count": 5,
   "id": "92db3ffa-5fc9-46ee-b81b-43081b1c1407",
   "metadata": {},
   "outputs": [
    {
     "data": {
      "text/plain": [
       "(5472, 3)"
      ]
     },
     "execution_count": 5,
     "metadata": {},
     "output_type": "execute_result"
    }
   ],
   "source": [
    "df_test.shape"
   ]
  },
  {
   "cell_type": "code",
   "execution_count": 6,
   "id": "f04b9173-d795-4368-97f5-3cc9b1672d4a",
   "metadata": {},
   "outputs": [
    {
     "data": {
      "text/plain": [
       "'OKURLARA Eşik , Irmak Zileli nin ilk romanı. Bir kadının var oluş hikayesini anlatan Eşik, siyasal ve ideolojik çatışmaların içindeki bir kız çocuğunun açmazlarını, çelişkilerini ilmek ilmek örerken bir ailenin fertleri olan öteki roman karakterlerinin ruhunda, düşünce dünyasında yaşanan dönüşümü de özgün bir üslupla yansıtıyor. Roman, 12 Eylül e 80 kuşağının bakışı olarak okunabileceği gibi bundan tümüyle bağımsız şekilde, babaktz sevgisi ve çatışması, siyasi ilişkilerle biçimlenmiş bir ailenin öyküsü, genç bir kadının var oluş mücadelesi ve toplumsal dönüşümlerin birey üzerindeki yansımaları olarak da okunabilir. Irmak Zileliyle romanını konuştuk, iki güzel insan, iki seçkin şair, Ataol Behramoğlu yla Metin Demirtaş ve onların 1970-1995 yılları arasındaki mektuplaşmalarından oluşan  Şiirin Kanadında Mektuplar  adlı kitap, iki şair arasında gidip gelen, kimi zaman umutlu, kimi zaman yaşananlara kırgın ve kızgın mektuplar. 12 Mart ve 12 Eylül faşist darbelerinde yurtdışındaki dönem, Barış Davası ve hapislik yılları... Paris te yaşanan politik göçmenlik, hasretler, ekonomik sıkıntılar, edebiyat dünyasında Halkın Dostları, Militan, Sanat Emeği gibi ses getirmiş dergilerin çıkış öyküleri, biri Antalya da diğeri istanbul da hapiste ve Paris te yurt özlemi içinde yaşarken sanki hep birlikteymişler gibi, içinde şiir yüklü yazışmalardan oluşan  Şiirin Kanadında Mektuplar  üzerine Demirtaş ve Behramoğlu yla söyleştik. Bol kitaplı günler... TURHAN GÜNAY e-posta: turhangunay@cumhuriyet.com.tr cumkitap@cutnhuriyet.com.tr'"
      ]
     },
     "execution_count": 6,
     "metadata": {},
     "output_type": "execute_result"
    }
   ],
   "source": [
    "df_train['content'][1285]"
   ]
  },
  {
   "cell_type": "markdown",
   "id": "f95e5787-e8df-453d-b02c-2c3c0418517a",
   "metadata": {},
   "source": [
    "## Parametrelerin Açıklaması"
   ]
  },
  {
   "cell_type": "markdown",
   "id": "350cc3eb-22f9-417c-b661-1525e04ab5ad",
   "metadata": {},
   "source": [
    "max_features=2000:\n",
    "En sık geçen 2000 kelimeyi seçer. Bu, modelin boyutunu ve hesaplama maliyetini düşürmek için kullanılır.\n",
    "\n",
    "analyzer='word':\n",
    "Analiz edilen birimin kelime olduğunu belirtir. TF-IDF, kelime seviyesinde hesaplanır.\n",
    "\n",
    "ngram_range=(1,3):\n",
    "Unigram (tek kelime), bigram (iki kelime) ve trigram (üç kelime) kombinasyonlarını kullanır. Bu, hem tek kelimelerin hem de kelime gruplarının (örneğin \"makine öğrenmesi\" gibi) modelde yer almasını sağlar.\n",
    "\n",
    "min_df=3:\n",
    "En az 3 belgede geçen kelimeleri dikkate alır. Çok nadir kelimeleri (belki hatalı veya anlamsız olanları) göz ardı ederek modelin daha genel geçer kalıplara odaklanmasını sağlar.\n",
    "\n",
    "sublinear_tf=True:\n",
    "Term frequency değerlerini logaritmik olarak dönüştürür. Bu, çok sık geçen kelimelerin etkisini azaltır ve modelin aşırı öğrenmesini önler."
   ]
  },
  {
   "cell_type": "code",
   "execution_count": 7,
   "id": "70ba3dad-7eea-4fe2-83f1-07cdd2e2e5e2",
   "metadata": {},
   "outputs": [],
   "source": [
    "vectorizer_word = TfidfVectorizer(max_features=2000, analyzer='word', ngram_range = (1,3), min_df=3, sublinear_tf=True)\n",
    "featured_tfidf_word = vectorizer_word.fit(df_all['clean_content']) "
   ]
  },
  {
   "cell_type": "markdown",
   "id": "6ad4d179-1dfa-4584-8682-3a8ac8f7d925",
   "metadata": {},
   "source": [
    "\"Pickle\" kullanılarak vektörleştirici modelleri kaydedilir. Bu, eğitim sürecinin tekrar edilmesine gerek kalmadan, vektörleştirici modellerin daha sonra yeniden kullanılabilmesini sağlar."
   ]
  },
  {
   "cell_type": "code",
   "execution_count": 8,
   "id": "91d0220f-9168-4637-9792-3b1a5203e4fe",
   "metadata": {},
   "outputs": [],
   "source": [
    "with open('vectors/news_tr_word.pkl', 'wb') as handle:\n",
    "    pickle.dump(featured_tfidf_word, handle, protocol=pickle.HIGHEST_PROTOCOL)"
   ]
  },
  {
   "cell_type": "code",
   "execution_count": 9,
   "id": "2d27346f-123e-4018-90fa-7b7520f71ee2",
   "metadata": {},
   "outputs": [],
   "source": [
    "vectorizer_char = TfidfVectorizer(max_features=2000, analyzer='char', ngram_range = (1,3), min_df=3, sublinear_tf=True)\n",
    "featured_tfidf_char = vectorizer_char.fit(df_all['clean_content'])"
   ]
  },
  {
   "cell_type": "code",
   "execution_count": 10,
   "id": "84de94be-05cd-400c-98d2-c16e76b92867",
   "metadata": {},
   "outputs": [],
   "source": [
    "with open('vectors/news_tr_char.pkl', 'wb') as handle:\n",
    "    pickle.dump(featured_tfidf_char, handle, protocol=pickle.HIGHEST_PROTOCOL)"
   ]
  }
 ],
 "metadata": {
  "kernelspec": {
   "display_name": "Python 3 (ipykernel)",
   "language": "python",
   "name": "python3"
  },
  "language_info": {
   "codemirror_mode": {
    "name": "ipython",
    "version": 3
   },
   "file_extension": ".py",
   "mimetype": "text/x-python",
   "name": "python",
   "nbconvert_exporter": "python",
   "pygments_lexer": "ipython3",
   "version": "3.12.1"
  }
 },
 "nbformat": 4,
 "nbformat_minor": 5
}
