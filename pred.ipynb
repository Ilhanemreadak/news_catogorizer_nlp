{
 "cells": [
  {
   "cell_type": "code",
   "execution_count": 1,
   "id": "84088bae-7506-4e9a-9ce3-5c5b562a6171",
   "metadata": {},
   "outputs": [],
   "source": [
    "from scipy.sparse import hstack\n",
    "import pandas as pd\n",
    "import pickle\n",
    "import re\n",
    "import string\n",
    "from collections import defaultdict"
   ]
  },
  {
   "cell_type": "code",
   "execution_count": 2,
   "id": "fc3f0227-9aeb-46cd-9200-d5562276c1ae",
   "metadata": {},
   "outputs": [],
   "source": [
    "#  load word and char tfidf vectors\n",
    "PATH_STOPWORDS_TR = 'data/stopwords_tr_interpress.pkl'\n",
    "PATH_BLACKLIST_TR = 'data/tr-blacklist.pkl'\n",
    "\n",
    "#  load dataset\n",
    "def load_data(path):\n",
    "    with open(path, 'rb') as handle:\n",
    "        dataset = pickle.load(handle)\n",
    "    return dataset"
   ]
  },
  {
   "cell_type": "code",
   "execution_count": 3,
   "id": "8136ebca-8397-4baa-8224-b67ce8a77365",
   "metadata": {},
   "outputs": [],
   "source": [
    "labels = {\n",
    "    0 : \"Kültür-Sanat\",\n",
    "    1 : \"Ekonomi\",\n",
    "    2 : \"Siyaset\",\n",
    "    3 : \"Eğitim\",\n",
    "    4 : \"Dünya\",\n",
    "    5 : \"Spor\",\n",
    "    6 : \"Teknoloji\",\n",
    "    7 : \"Magazin\",\n",
    "    8 : \"Sağlık\",\n",
    "    9 : \"Gündem\"\n",
    "}"
   ]
  },
  {
   "cell_type": "code",
   "execution_count": 4,
   "id": "450de869-efed-4f90-b877-df15b4d16360",
   "metadata": {},
   "outputs": [],
   "source": [
    "with open('vectors/news_tr_word.pkl', 'rb') as handle:\n",
    "    word_tfidf = pickle.load(handle)\n",
    "\n",
    "with open('vectors/news_tr_char.pkl', 'rb') as handle:\n",
    "    char_tfidf = pickle.load(handle)"
   ]
  },
  {
   "cell_type": "code",
   "execution_count": 5,
   "id": "87775c55-1e84-46b5-b8eb-e5d412934b5c",
   "metadata": {},
   "outputs": [],
   "source": [
    "#  load model\n",
    "with open('models/news_tr_classifier_svm_model.sav', 'rb') as handle:\n",
    "    model = pickle.load(handle)"
   ]
  },
  {
   "cell_type": "code",
   "execution_count": 6,
   "id": "8fb5a9a0-81a4-454f-92b6-991ecbb9a1e3",
   "metadata": {},
   "outputs": [
    {
     "name": "stderr",
     "output_type": "stream",
     "text": [
      "<>:56: SyntaxWarning: invalid escape sequence '\\S'\n",
      "<>:56: SyntaxWarning: invalid escape sequence '\\S'\n",
      "C:\\Users\\adaki\\AppData\\Local\\Temp\\ipykernel_17076\\938286872.py:56: SyntaxWarning: invalid escape sequence '\\S'\n",
      "  reg_email=\"r'\\S*@\\S*\\s?\"\n"
     ]
    }
   ],
   "source": [
    "#  load stopwords\n",
    "def get_stopwords():\n",
    "    try:\n",
    "        with open(PATH_STOPWORDS_TR, 'rb') as data_file:\n",
    "            return pickle.load(data_file)\n",
    "    except IOError as exc:\n",
    "        raise IOError(\"No such stopwords file! Error: \" + str(exc))\n",
    "\n",
    "#  load blacklist\n",
    "def get_blacklist():\n",
    "    try:\n",
    "        with open(PATH_BLACKLIST_TR, 'rb') as data_file:\n",
    "            return pickle.load(data_file)\n",
    "    except IOError as exc:\n",
    "        raise IOError(\"No such stopwords file! Error: \" + str(exc))\n",
    "        \n",
    "\n",
    "#  cleaning stopwords\n",
    "def clean_stopwords(content):\n",
    "    # content: str\n",
    "    content = content.split(\" \")\n",
    "    filtered_list = []\n",
    "    stopwords = get_stopwords()\n",
    "    for word in content:\n",
    "        if word not in stopwords:\n",
    "            filtered_list.append(word)\n",
    "\n",
    "    text = ' '.join(filtered_list)\n",
    "    return text\n",
    "\n",
    "#  cleaning blacklist\n",
    "def clean_blacklist(content):\n",
    "    # content: str\n",
    "    # return: str\n",
    "    content = content.split(\" \")\n",
    "    filtered_list = []\n",
    "    blacklist = get_blacklist()\n",
    "    for word in content:\n",
    "        if word not in blacklist:\n",
    "            filtered_list.append(word)\n",
    "\n",
    "    text = ' '.join(filtered_list)\n",
    "    return text\n",
    "\n",
    "#  cleaning URLs\n",
    "def clean_url(content):\n",
    "    #  content: str\n",
    "    #  return: str\n",
    "    reg_url = r'''(?i)\\b((?:https?://|www\\d{0,3}[.]|[a-z0-9.\\-]+[.][a-z]{2,4}/)(?:[^\\s()<>]+|\\(([^\\s()<>]+|(\\([^\\s()<>]+\\)))*\\))+(?:\\(([^\\s()<>]+|(\\([^\\s()<>]+\\)))*\\)|[^\\s`!()\\[\\]{};:'\".,<>?«»“”‘’]))'''\n",
    "    pattern_url = re.compile(reg_url)\n",
    "    content = pattern_url.sub('',content)\n",
    "    return content\n",
    "    \n",
    "#  cleaning e-mails\n",
    "def clean_email(content):\n",
    "    reg_email=\"r'\\S*@\\S*\\s?\"\n",
    "    pattern_email = re.compile(reg_email)\n",
    "    content = pattern_email.sub('',content)\n",
    "    return content\n",
    "    \n",
    "#  cleaning punctuation\n",
    "def clean_punctuation(content):\n",
    "    #regex = re.compile('[%s]' % re.escape(string.punctuation))\n",
    "    #content = regex.sub(\" \", content)\n",
    "    content = content.translate(content.maketrans(\"\", \"\", string.punctuation))\n",
    "    return content\n",
    "    \n",
    "#  cleaning digits\n",
    "def clean_numbers(content):\n",
    "    remove_digits = str.maketrans('', '', string.digits)\n",
    "    text = content.translate(remove_digits)\n",
    "    return text\n",
    "\n",
    "def listToString(text):\n",
    "    #  text: string\n",
    "    #  return: string \n",
    "    str1 = \" \"  \n",
    "    return (str1.join(text)) \n",
    "\n",
    "#  cleaning postfix\n",
    "#  for example: Venezuela'nın ==> Venezuela\n",
    "def clean_postfix(content):\n",
    "    #  content: list\n",
    "    #  return: str\n",
    "    spesific_punctation = [39, 8217] # ascii codes of spesific punctations\n",
    "    all_words = defaultdict(list)\n",
    "    counter = 0\n",
    "    for i, word in enumerate(content):\n",
    "        if len(word) > 2:\n",
    "            if chr(8217) in word:\n",
    "                replaced_word = word.replace(chr(8217), \" \")  #  clean for ’\n",
    "                replaced_word = replaced_word.split(\" \")[0]\n",
    "                all_words[i].append(replaced_word)\n",
    "            elif chr(39) in word:\n",
    "                replaced_word = word.replace(chr(39), \" \")  # clean for '\n",
    "                replaced_word = replaced_word.split(\" \")[0]\n",
    "                all_words[i].append(replaced_word)\n",
    "            else:\n",
    "                all_words[i].append(word)\n",
    "    all_words = sorted(all_words.items())\n",
    "\n",
    "    text = \"\"\n",
    "    for i in range(len(all_words)):\n",
    "        text = text + \" \" + all_words[i][1][0]\n",
    "\n",
    "    return text\n",
    "\n",
    "def clean_text(content):\n",
    "    #  text: string\n",
    "    #  return: string\n",
    "    content = content.lower()\n",
    "    cleaned_email = clean_email(content)\n",
    "    cleaned_email_url = clean_url(cleaned_email)\n",
    "    cleaned_email_url = listToString(cleaned_email_url.split(\".\"))\n",
    "    cleaned_email_url = cleaned_email_url.split(\" \")\n",
    "    cleaned_email_url_postfix = clean_postfix(cleaned_email_url)\n",
    "    cleaned_email_url_postfix_punctuation = clean_punctuation(cleaned_email_url_postfix)\n",
    "    cleaned_email_url_postfix_punctuation_numbers = clean_numbers(cleaned_email_url_postfix_punctuation)\n",
    "    cleaned_email_url_postfix_punctuation_numbers_stopwords = clean_stopwords(cleaned_email_url_postfix_punctuation_numbers)\n",
    "    cleaned_email_url_postfix_punctuation_numbers_stopwords_blacklist = clean_blacklist(cleaned_email_url_postfix_punctuation_numbers_stopwords)\n",
    "   \n",
    "    filtered_sentence = []\n",
    "    for word in cleaned_email_url_postfix_punctuation_numbers_stopwords_blacklist.split(\" \"):\n",
    "        if len(word) > 2:\n",
    "            filtered_sentence.append(word)\n",
    "    \n",
    "    text = ' '.join(filtered_sentence)\n",
    "    return text"
   ]
  },
  {
   "cell_type": "code",
   "execution_count": 7,
   "id": "d7c2e6a2-f192-4329-b69c-d4148155f378",
   "metadata": {},
   "outputs": [],
   "source": [
    "#news = r\"Çin biyoteknoloji şirketleri China National Pharmaceutical Group (Sinopharm) ve Chongqing Zhifei Biological Products'ın bir yan kuruluşu tarafından geliştirilen iki corona virüs aşının Güney Afrika mutasyonuna karşı bağışıklığı tetiklediği açıklandı. BioRxiv adlı dergide ön baskısı yayımlanan laboratuvar araştırmasında, aşıyı yaptıran kişilerin kan örnekleri analiz edildi. Araştırmacılar, aşının tetiklediği antikorların Güney Afrika varyantına karşı nötrleştirme aktivitesini koruduğunu söyledi. Makale, Sinopharm'a bağlı Pekin Biyolojik Ürünler Enstitüsü, Çin Bilimler Akademisi Mikrobiyoloji Enstitüsü araştırmacıları tarafından yazıldı. AŞILARIN ETKİNLİĞİ DÜŞTÜ Bununla birlikte,  alınan örneklerdeki antikorların mutant virüse karşı aktivitesinin  orijinal virüse göre daha zayıf olduğu ifade edildi. Bilim insanları, aktivite azalmasının aşıların klinik etkililiğine olan etkisi dikkate alınmalıdır açıklamasını yaptı. Ancak, aşılardaki etkinliğin hangi oranda düştüğü belirtilmedi. Öte yandan, yüzde 79 oranında  etkili olduğu açıklanan Sinopharm aşısı Çin'de genel kullanım için onaylandı  ve Birleşik Arap Emirlikleri (BAE) de  dahil olmak üzere diğer birçok ülkede de kullanıllıyor. \"\n",
    "#news = \"Şu sıralar 'Çukur' dizisinde 'Vartolu Sadettin' karakteriyle ekranlarda boy gösteren oyuncu Erkan Kolçak Köstendil ve meslektaşı Cansu Tosun 2018 yılında nikah masasına oturmuştu. Çift şu sıralar bebek heyecanı yaşıyor.Cansu Tosun 4.5 aylık hamile. Cansu Tosun ve Erkan Kolçak Köstendil'in bebeklerinin adına karar verdi.\"\n",
    "#news = \"Batı dünyasında çok sık rastlanılan, bebek ölümlerine neden olan genetik hastalık SMA'ya, son yıllarda ülkemizde de sık rastlanılmaya başladı. Edinburgh Üniversitesi'nde yapılan deneye göre her 6 bin doğumdan birinde görülen SMA tanısı %95 delesyon tanısı olarak DNA testi sonucuyla konuyor. Geriye kalan %5 oranındaki bozukluk diğer hasar veren mutasyonlar şeklinde gelişebiliyor. 6000 – 10000 doğumda bir görülebilen hastalıkta 40 çocuktan biri taşıyıcı olabiliyor. Her iki ebeveynden bozuk gen çocuğa geçtiğinde ancak çocuk SMA hastası olabiliyor. Sadece anneden veya sadece babadan bozuk gen aktarımı çocukta hastalık oluşturmuyor, ancak taşıyıcılık oluşturabiliyor..\"\n",
    "news = \"Faizsiz konut ve taşıt edindiren şirketlere yönelik yasa teklifi Meclis’e sunuldu. 100 milyon lira sermaye şartının etkisi ve BDDK incelemeleri sonrasında firmaların büyük kısmının tasfiye edilmesi, müşterilerin kurumsal firmalara aktarılması bekleniyor.\"\n",
    "#news = \"PSG'nin dünyaca ünlü yıldız futbolcusu Neymar, sakatlığı sebebiyle 4 hafta sahalardan uzak kalacak. Neymar'ın son yıllarda kız kardeşi Rafaella Santos'un doğum gününe denk gelen tarihlerde sakatlanması dikkat çekiyor...\"\n",
    "#news = \"Brezilyalı futbolcu, son yıllarda kardeşinin doğum günü tarihine gelecek şekilde sakatlanıyor. Senaryo, bu yıl da değişmedi. 4 hafta sahalardan uzak kalacak olan Neymar, bir kez daha kız kardeşinin doğum gününde sahalarda olmayacak.2015 ve 2016 yıllarında 11 Mart tarihlerinde kart cezalısı olduğu için Brezilya'da olan Neymar, 2017, 2018, 2019, 2020 ve 2021'de ise bu tarihlerde sakatlık geçirdi. Bu tarihlerde sakat veya cezalı olduğu için Brezilya'ya giden Neymar, bu yıl da Rafaella'nın doğum gününde Brezilya'da olacak.\" "
   ]
  },
  {
   "cell_type": "code",
   "execution_count": 8,
   "id": "5f785c2b-6ae0-4302-b0ac-e0da4c5f74e7",
   "metadata": {},
   "outputs": [
    {
     "data": {
      "text/plain": [
       "'faizsiz konut taşıt edindiren şirketlere yönelik yasa teklifi meclis sunuldu lira sermaye şartının etkisi bddk incelemeleri firmaların büyük kısmının tasfiye müşterilerin kurumsal firmalara aktarılması bekleniyor'"
      ]
     },
     "execution_count": 8,
     "metadata": {},
     "output_type": "execute_result"
    }
   ],
   "source": [
    "cleaned_news = clean_text(news)\n",
    "cleaned_news"
   ]
  },
  {
   "cell_type": "code",
   "execution_count": 9,
   "id": "94ad716a-59eb-43c4-8847-35abe209ff60",
   "metadata": {},
   "outputs": [
    {
     "data": {
      "text/plain": [
       "'Faizsiz konut ve taşıt edindiren şirketlere yönelik yasa teklifi Meclis’e sunuldu. 100 milyon lira sermaye şartının etkisi ve BDDK incelemeleri sonrasında firmaların büyük kısmının tasfiye edilmesi, müşterilerin kurumsal firmalara aktarılması bekleniyor.'"
      ]
     },
     "execution_count": 9,
     "metadata": {},
     "output_type": "execute_result"
    }
   ],
   "source": [
    "news"
   ]
  },
  {
   "cell_type": "code",
   "execution_count": 10,
   "id": "b85897ba-aeb8-4f84-9787-45a0e2f19916",
   "metadata": {},
   "outputs": [],
   "source": [
    "word_transformed_news = word_tfidf.transform([cleaned_news])\n",
    "char_transformed_news = char_tfidf.transform([cleaned_news])\n",
    "news_featured = hstack([word_transformed_news, char_transformed_news])"
   ]
  },
  {
   "cell_type": "code",
   "execution_count": 11,
   "id": "568d99ff-f0f4-4ce7-9495-15b3d691b44e",
   "metadata": {},
   "outputs": [
    {
     "data": {
      "text/plain": [
       "{0: 'Kültür-Sanat',\n",
       " 1: 'Ekonomi',\n",
       " 2: 'Siyaset',\n",
       " 3: 'Eğitim',\n",
       " 4: 'Dünya',\n",
       " 5: 'Spor',\n",
       " 6: 'Teknoloji',\n",
       " 7: 'Magazin',\n",
       " 8: 'Sağlık',\n",
       " 9: 'Gündem'}"
      ]
     },
     "execution_count": 11,
     "metadata": {},
     "output_type": "execute_result"
    }
   ],
   "source": [
    "labels"
   ]
  },
  {
   "cell_type": "code",
   "execution_count": 12,
   "id": "abfd6738-5b88-46c9-80d3-69e8f1916592",
   "metadata": {},
   "outputs": [
    {
     "name": "stdout",
     "output_type": "stream",
     "text": [
      "[1]\n",
      "Ekonomi\n"
     ]
    }
   ],
   "source": [
    "result = model.predict(news_featured)\n",
    "print(result)\n",
    "print(labels[result[0]])"
   ]
  },
  {
   "cell_type": "code",
   "execution_count": 15,
   "id": "4d6c61bb-fe6f-4d1d-ad3a-9fda110093b0",
   "metadata": {},
   "outputs": [],
   "source": [
    "news_try = \"Türkiye Kupası finalinde Beşiktaş, Trabzonspor’u 3-2 mağlup ederek kupanın sahibi oldu. Gençlik ve Spor Bakanı Osman Aşkın Bak bu mücadelenin ardından açıklamalarda bulundu.Gençlik ve Spor Bakanı Dr. Osman Aşkın Bak, futbolda Ziraat Türkiye Kupası’nı kazanan Beşiktaş için tebrik mesajı yayımladı. Bakan Bak, tebrik mesajında şu ifadelere yer verdi; “İstanbul Atatürk Olimpiyat Stadı’nda oynanan 62. Ziraat Türkiye Kupası Finalinde Trabzonspor’u yenerek şampiyon olan Beşiktaş’ı tebrik ediyorum. Finalde mücadele eden Trabzonspor’u da mücadelesinden dolayı kutluyorum. Her iki kulübümüze gelecek sezon başarılar diliyorum.”Gençlik ve Spor Bakanı Osman Aşkın Bak ayrıca açıklamalarda da bulundu.Türkiye’nin sporda ileriye doğru gittiğini söyleyen Gençlik ve Spor Bakanı Osman Aşkın Bak, “Öncelikle tabii ki Türkiye’nin spora yaptığı yatırımların karşılığını almaya başladık. Sayın Cumhurbaşkanımızın sporun içinden gelmesi, eski bir futbolcu olması, sporu çok iyi bilmesi ve spor altyapısına, stadyumlara, havuzlara, spor salonlarına çok büyük yatırımlar yapmış olması, Türkiye’nin tesisleşme hamlesi, spor devrimi olarak nitelendirebiliriz. Bunun sonuçlarını pek çok organizasyonla almaya başlıyoruz. 2026 UEFA Avrupa Ligi finali ve ardından yine 2027 UEFA Avrupa Konferans Ligi finalini almasının Türkiye’nin stadyumlardaki, tesislerdeki altyapısını gösteriyor, spordaki organizasyon yeteneğini gösteriyor. Geçen yıl da Şampiyonlar Ligi’ni organize etmiştik. Burası 2 tane Şampiyonlar Ligi finalini organize etti. Beşiktaş Stadyumu’nda UEFA Süper Kupa organize edildi. Pek çok organizasyon yapıldı. Başarılı bir süreç. Ülkemiz açısından gurur duyuyoruz. Emeği geçenlere teşekkür ediyoruz. 2032 Avrupa Futbol Şampiyonası’nı İtalya ile beraber organize ediyoruz. Stadyumlarımız ve tesislerimizin kalitesi ortada. O yüzden Türkiye sporda çağ atlamış, ileriye doğru giden, futbolda, sporda yatırımlarını devam ettiren bir ülke. Bu güzel haberler bizleri mutlu ediyor. Spor bir endüstri, spor bir turizm, İstanbul çekim noktası, Türkiye çekim noktası. Bunların olması ülkemizin kapasitesini, yatırım ve spor kapasitesini gösteriyor. Emeği geçenlere teşekkür ediyoruz. Ülkemize hayırlı olsun diyoruz” ifadelerini kullandı.Güzel bir maç olduğunu belirten Bakan Bak, “İki güzide takımımızın finali güzel oldu. Her iki tarafın seyircisi güzel bir ortam yarattı. Temiz bir maç oldu. Güzel bir oyun diyebiliriz. Sonuna doğru heyecanlı bir oyun. Tebrik ediyoruz. Biz ‘İyi olan kazansın’ demiştik. Futbol bu. Hata yaparsanız cezasını kesiyorlar. Tekrar iki kulübümüzü tebrik ediyoruz. İyi mücadele ettiler ve kupayı kazanan Beşiktaş’ı tebrik ediyoruz” şeklinde konuştu.Almanya bizim evimiz gibi 2024 Avrupa Futbol Şampiyonası’nda mücadele edecek olan A Milli Futbol Takımı hakkında da konuşan Bakan Bak, “2024’e gelirken takımımız iyi bir iş yaptı, gruptan lider çıktı. Almanya bizim evimiz gibi. İnşallah 18, 22 ve 26’sında orada olacağız. Ben inanıyorum. Genç bir takımımız var. Güzel işler yapacağına inanıyoruz. Seyirci faktörü de önemli. Evimizde gibi oynayacağız. Milli takımımıza başarılar diliyoruz” diyerek sözlerini noktaladı.\""
   ]
  },
  {
   "cell_type": "code",
   "execution_count": 16,
   "id": "d988687f-96dd-4cdc-8d0e-31dbbd28933d",
   "metadata": {},
   "outputs": [
    {
     "name": "stdout",
     "output_type": "stream",
     "text": [
      "[5]\n",
      "Spor\n"
     ]
    }
   ],
   "source": [
    "cleaned_news = clean_text(news_try)\n",
    "cleaned_news\n",
    "\n",
    "word_transformed_news = word_tfidf.transform([cleaned_news])\n",
    "char_transformed_news = char_tfidf.transform([cleaned_news])\n",
    "news_featured = hstack([word_transformed_news, char_transformed_news])\n",
    "\n",
    "result = model.predict(news_featured)\n",
    "print(result)\n",
    "print(labels[result[0]])"
   ]
  }
 ],
 "metadata": {
  "kernelspec": {
   "display_name": "Python 3 (ipykernel)",
   "language": "python",
   "name": "python3"
  },
  "language_info": {
   "codemirror_mode": {
    "name": "ipython",
    "version": 3
   },
   "file_extension": ".py",
   "mimetype": "text/x-python",
   "name": "python",
   "nbconvert_exporter": "python",
   "pygments_lexer": "ipython3",
   "version": "3.12.1"
  }
 },
 "nbformat": 4,
 "nbformat_minor": 5
}
