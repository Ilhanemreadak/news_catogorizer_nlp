{
 "cells": [
  {
   "cell_type": "markdown",
   "id": "750cf4ba-abd9-4805-b71c-9c96d8e5d3cc",
   "metadata": {},
   "source": [
    "# Veri Çekme ve Veriyi Kullanıma Hazırlama "
   ]
  },
  {
   "cell_type": "markdown",
   "id": "c7974db8-39b9-43a6-81f6-4c98a6dc51bf",
   "metadata": {},
   "source": [
    "## Veri Çekme"
   ]
  },
  {
   "cell_type": "code",
   "execution_count": 1,
   "id": "33d709ff-205c-40d2-9182-1024dd2b16c9",
   "metadata": {},
   "outputs": [],
   "source": [
    "import pandas as pd"
   ]
  },
  {
   "cell_type": "code",
   "execution_count": 2,
   "id": "64e5376c-8aa8-42dd-8d7f-8e31cfc3c33c",
   "metadata": {},
   "outputs": [],
   "source": [
    "from datasets import load_dataset \n",
    "import sys\n",
    "import csv\n",
    "maxInt = sys.maxsize\n",
    "while True:\n",
    "    try:\n",
    "        csv.field_size_limit(maxInt)\n",
    "        break\n",
    "    except OverflowError:\n",
    "        maxInt = int(maxInt/10)\n",
    "import warnings\n",
    "warnings.filterwarnings('ignore')"
   ]
  },
  {
   "cell_type": "markdown",
   "id": "7cd65dcd-73a1-4336-aead-ba14392a420a",
   "metadata": {},
   "source": [
    "Verilerimizi HuggingFaceden seçtik ve load_dataset fonksiyonuyla çektik"
   ]
  },
  {
   "cell_type": "code",
   "execution_count": 3,
   "id": "511615c2-e957-4867-a479-f212327fc8a7",
   "metadata": {},
   "outputs": [],
   "source": [
    "ds_interpress_news_category_tr_lite_train = load_dataset(\"interpress_news_category_tr_lite\", split=\"train\")\n",
    "ds_interpress_news_category_tr_lite_test = load_dataset(\"interpress_news_category_tr_lite\", split=\"test\")"
   ]
  },
  {
   "cell_type": "code",
   "execution_count": 4,
   "id": "d891ced4-1a8c-4646-96ec-a4192fdc06e9",
   "metadata": {},
   "outputs": [],
   "source": [
    "df_train_all = pd.DataFrame(ds_interpress_news_category_tr_lite_train)\n",
    "df_test_all = pd.DataFrame(ds_interpress_news_category_tr_lite_test)"
   ]
  },
  {
   "cell_type": "markdown",
   "id": "12683afa-c644-4fe0-84db-acd3597172fa",
   "metadata": {},
   "source": [
    "Çektiğimiz verileri pandas DataFramelere oturtarak işlemeye hazır hale getiriyoruz."
   ]
  },
  {
   "cell_type": "code",
   "execution_count": 5,
   "id": "425a7fd8-69ba-48cf-b409-98a29e917f9c",
   "metadata": {},
   "outputs": [
    {
     "data": {
      "text/plain": [
       "(218880, 2)"
      ]
     },
     "execution_count": 5,
     "metadata": {},
     "output_type": "execute_result"
    }
   ],
   "source": [
    "df_train_all.shape"
   ]
  },
  {
   "cell_type": "code",
   "execution_count": 6,
   "id": "986e8928-7086-4f2d-906b-1ff03fb508d3",
   "metadata": {},
   "outputs": [
    {
     "data": {
      "text/plain": [
       "(54721, 2)"
      ]
     },
     "execution_count": 6,
     "metadata": {},
     "output_type": "execute_result"
    }
   ],
   "source": [
    "df_test_all.shape"
   ]
  },
  {
   "cell_type": "markdown",
   "id": "75ffecca-e7fa-4df9-aa4f-845a957afcb1",
   "metadata": {},
   "source": [
    "Veri miktarımız çok fazla olduğu için verileri işleme sürecinde sıkıntılar yaşadık o yüzden verilerimizin %10'nu alıp işlemlerimize decam edeceğiz."
   ]
  },
  {
   "cell_type": "code",
   "execution_count": 7,
   "id": "81f3e3f4-e42e-4348-83c9-5eb5adcd0319",
   "metadata": {},
   "outputs": [],
   "source": [
    "df_train = df_train_all.head(21888)\n",
    "df_test = df_test_all.head(5472)"
   ]
  },
  {
   "cell_type": "code",
   "execution_count": 8,
   "id": "e0e569cf-1ac6-4d3a-91be-b3a3dce58d6d",
   "metadata": {},
   "outputs": [
    {
     "data": {
      "text/html": [
       "<div>\n",
       "<style scoped>\n",
       "    .dataframe tbody tr th:only-of-type {\n",
       "        vertical-align: middle;\n",
       "    }\n",
       "\n",
       "    .dataframe tbody tr th {\n",
       "        vertical-align: top;\n",
       "    }\n",
       "\n",
       "    .dataframe thead th {\n",
       "        text-align: right;\n",
       "    }\n",
       "</style>\n",
       "<table border=\"1\" class=\"dataframe\">\n",
       "  <thead>\n",
       "    <tr style=\"text-align: right;\">\n",
       "      <th></th>\n",
       "      <th>content</th>\n",
       "      <th>category</th>\n",
       "    </tr>\n",
       "  </thead>\n",
       "  <tbody>\n",
       "    <tr>\n",
       "      <th>0</th>\n",
       "      <td>Tarihten Sınıfta Kaldık Bugün tarihe damgasını...</td>\n",
       "      <td>0</td>\n",
       "    </tr>\n",
       "    <tr>\n",
       "      <th>1</th>\n",
       "      <td>clş ve yatırım ortamı iyileştiriliyor, bürokra...</td>\n",
       "      <td>1</td>\n",
       "    </tr>\n",
       "    <tr>\n",
       "      <th>2</th>\n",
       "      <td>Animasyon meraklıları için! Yönetmen: Jennifer...</td>\n",
       "      <td>0</td>\n",
       "    </tr>\n",
       "    <tr>\n",
       "      <th>3</th>\n",
       "      <td>İTİ BEEF JJ SVftSL ff 44     BEEFSFISH 16)2016...</td>\n",
       "      <td>0</td>\n",
       "    </tr>\n",
       "    <tr>\n",
       "      <th>4</th>\n",
       "      <td>LPG Dolum - Boşaltım kursu KTSO da yapıldı Kar...</td>\n",
       "      <td>1</td>\n",
       "    </tr>\n",
       "    <tr>\n",
       "      <th>...</th>\n",
       "      <td>...</td>\n",
       "      <td>...</td>\n",
       "    </tr>\n",
       "    <tr>\n",
       "      <th>21883</th>\n",
       "      <td>KİM MARKET 72. mağazasını Büyükçekmece de açtı...</td>\n",
       "      <td>1</td>\n",
       "    </tr>\n",
       "    <tr>\n",
       "      <th>21884</th>\n",
       "      <td>Uche ve Yasin bitti PTT 1. Lig ekiplerinden Ga...</td>\n",
       "      <td>5</td>\n",
       "    </tr>\n",
       "    <tr>\n",
       "      <th>21885</th>\n",
       "      <td>Korcan Cicinho Navratil Ümit Ziya Burhan Mehdi...</td>\n",
       "      <td>5</td>\n",
       "    </tr>\n",
       "    <tr>\n",
       "      <th>21886</th>\n",
       "      <td>Gölcükspor eski futbolcularını topladı 3. Lig ...</td>\n",
       "      <td>5</td>\n",
       "    </tr>\n",
       "    <tr>\n",
       "      <th>21887</th>\n",
       "      <td>Sağlık ve Huzur için Hattuşa Astrya Thermal Re...</td>\n",
       "      <td>0</td>\n",
       "    </tr>\n",
       "  </tbody>\n",
       "</table>\n",
       "<p>21888 rows × 2 columns</p>\n",
       "</div>"
      ],
      "text/plain": [
       "                                                 content  category\n",
       "0      Tarihten Sınıfta Kaldık Bugün tarihe damgasını...         0\n",
       "1      clş ve yatırım ortamı iyileştiriliyor, bürokra...         1\n",
       "2      Animasyon meraklıları için! Yönetmen: Jennifer...         0\n",
       "3      İTİ BEEF JJ SVftSL ff 44     BEEFSFISH 16)2016...         0\n",
       "4      LPG Dolum - Boşaltım kursu KTSO da yapıldı Kar...         1\n",
       "...                                                  ...       ...\n",
       "21883  KİM MARKET 72. mağazasını Büyükçekmece de açtı...         1\n",
       "21884  Uche ve Yasin bitti PTT 1. Lig ekiplerinden Ga...         5\n",
       "21885  Korcan Cicinho Navratil Ümit Ziya Burhan Mehdi...         5\n",
       "21886  Gölcükspor eski futbolcularını topladı 3. Lig ...         5\n",
       "21887  Sağlık ve Huzur için Hattuşa Astrya Thermal Re...         0\n",
       "\n",
       "[21888 rows x 2 columns]"
      ]
     },
     "execution_count": 8,
     "metadata": {},
     "output_type": "execute_result"
    }
   ],
   "source": [
    "df_train"
   ]
  },
  {
   "cell_type": "code",
   "execution_count": 9,
   "id": "337238c9-e5b2-4691-9d1a-f90e2882a4e3",
   "metadata": {},
   "outputs": [
    {
     "data": {
      "text/html": [
       "<div>\n",
       "<style scoped>\n",
       "    .dataframe tbody tr th:only-of-type {\n",
       "        vertical-align: middle;\n",
       "    }\n",
       "\n",
       "    .dataframe tbody tr th {\n",
       "        vertical-align: top;\n",
       "    }\n",
       "\n",
       "    .dataframe thead th {\n",
       "        text-align: right;\n",
       "    }\n",
       "</style>\n",
       "<table border=\"1\" class=\"dataframe\">\n",
       "  <thead>\n",
       "    <tr style=\"text-align: right;\">\n",
       "      <th></th>\n",
       "      <th>content</th>\n",
       "      <th>category</th>\n",
       "    </tr>\n",
       "  </thead>\n",
       "  <tbody>\n",
       "    <tr>\n",
       "      <th>0</th>\n",
       "      <td>50 yıldır yükselen enerji: Aygaz TÜRK HALKINI ...</td>\n",
       "      <td>1</td>\n",
       "    </tr>\n",
       "    <tr>\n",
       "      <th>1</th>\n",
       "      <td>Onur Akyıl Bir insan kadar mutsuzBir insan kad...</td>\n",
       "      <td>0</td>\n",
       "    </tr>\n",
       "    <tr>\n",
       "      <th>2</th>\n",
       "      <td>. yolculuk GÜNEYLİ SARIŞIN: REESE WITHERSPOON ...</td>\n",
       "      <td>0</td>\n",
       "    </tr>\n",
       "    <tr>\n",
       "      <th>3</th>\n",
       "      <td>Doğru tercih yapan hiçbir aday açıkta kalmayac...</td>\n",
       "      <td>3</td>\n",
       "    </tr>\n",
       "    <tr>\n",
       "      <th>4</th>\n",
       "      <td>De Jong için sıraya girdiler   SERİE A ekipler...</td>\n",
       "      <td>5</td>\n",
       "    </tr>\n",
       "    <tr>\n",
       "      <th>...</th>\n",
       "      <td>...</td>\n",
       "      <td>...</td>\n",
       "    </tr>\n",
       "    <tr>\n",
       "      <th>5467</th>\n",
       "      <td>ARDAĞIN ZİRVESİNDE jj-  Amasya Üniversitesi öğ...</td>\n",
       "      <td>0</td>\n",
       "    </tr>\n",
       "    <tr>\n",
       "      <th>5468</th>\n",
       "      <td>Yıldız oyuncular Burası, Gıoyneth Paltroıo un ...</td>\n",
       "      <td>0</td>\n",
       "    </tr>\n",
       "    <tr>\n",
       "      <th>5469</th>\n",
       "      <td>KAYSERİ Yİ HER ZAMAN BEĞENİYORUZ Kayserini! ta...</td>\n",
       "      <td>0</td>\n",
       "    </tr>\n",
       "    <tr>\n",
       "      <th>5470</th>\n",
       "      <td>KÖŞE YAZARLARI Büyük veri devriminin evrimleşe...</td>\n",
       "      <td>6</td>\n",
       "    </tr>\n",
       "    <tr>\n",
       "      <th>5471</th>\n",
       "      <td>Cennetin kalbine doğru keyifli bir yolculuğa ç...</td>\n",
       "      <td>0</td>\n",
       "    </tr>\n",
       "  </tbody>\n",
       "</table>\n",
       "<p>5472 rows × 2 columns</p>\n",
       "</div>"
      ],
      "text/plain": [
       "                                                content  category\n",
       "0     50 yıldır yükselen enerji: Aygaz TÜRK HALKINI ...         1\n",
       "1     Onur Akyıl Bir insan kadar mutsuzBir insan kad...         0\n",
       "2     . yolculuk GÜNEYLİ SARIŞIN: REESE WITHERSPOON ...         0\n",
       "3     Doğru tercih yapan hiçbir aday açıkta kalmayac...         3\n",
       "4     De Jong için sıraya girdiler   SERİE A ekipler...         5\n",
       "...                                                 ...       ...\n",
       "5467  ARDAĞIN ZİRVESİNDE jj-  Amasya Üniversitesi öğ...         0\n",
       "5468  Yıldız oyuncular Burası, Gıoyneth Paltroıo un ...         0\n",
       "5469  KAYSERİ Yİ HER ZAMAN BEĞENİYORUZ Kayserini! ta...         0\n",
       "5470  KÖŞE YAZARLARI Büyük veri devriminin evrimleşe...         6\n",
       "5471  Cennetin kalbine doğru keyifli bir yolculuğa ç...         0\n",
       "\n",
       "[5472 rows x 2 columns]"
      ]
     },
     "execution_count": 9,
     "metadata": {},
     "output_type": "execute_result"
    }
   ],
   "source": [
    "df_test"
   ]
  },
  {
   "cell_type": "code",
   "execution_count": 10,
   "id": "11023d49-a745-4e7e-8042-74cce69be438",
   "metadata": {},
   "outputs": [
    {
     "name": "stdout",
     "output_type": "stream",
     "text": [
      "Train Total Categories: 10\n",
      "category\n",
      "0    6985\n",
      "1    3764\n",
      "2    1026\n",
      "3    1036\n",
      "4     681\n",
      "5    2352\n",
      "6    3127\n",
      "7     595\n",
      "8    1873\n",
      "9     449\n",
      "dtype: int64\n"
     ]
    }
   ],
   "source": [
    "train_categories = df_train.groupby('category')\n",
    "print(\"Train Total Categories:\", train_categories.ngroups)\n",
    "print(train_categories.size())"
   ]
  },
  {
   "cell_type": "code",
   "execution_count": 11,
   "id": "e5a16288-8740-454f-be4f-2d5c5e55608a",
   "metadata": {},
   "outputs": [
    {
     "name": "stdout",
     "output_type": "stream",
     "text": [
      "Test Total Categories: 10\n",
      "category\n",
      "0    1735\n",
      "1     886\n",
      "2     242\n",
      "3     227\n",
      "4     174\n",
      "5     600\n",
      "6     848\n",
      "7     147\n",
      "8     502\n",
      "9     111\n",
      "dtype: int64\n"
     ]
    }
   ],
   "source": [
    "test_categories = df_test.groupby('category')\n",
    "print(\"Test Total Categories:\", test_categories.ngroups)\n",
    "print(test_categories.size())"
   ]
  },
  {
   "cell_type": "markdown",
   "id": "14642d34-2096-422a-9cbd-80b4ab1a0d0f",
   "metadata": {},
   "source": [
    "### Verileri Görselleştirme"
   ]
  },
  {
   "cell_type": "markdown",
   "id": "3efc9fa9-a1be-4de4-a008-593cbba9ce32",
   "metadata": {},
   "source": [
    "Veri setimizdeki verilerin kategorik dağılımını görselleştiriyoruz."
   ]
  },
  {
   "cell_type": "code",
   "execution_count": 12,
   "id": "b3d8aab4-8861-4280-ab0e-3ab628afeb97",
   "metadata": {},
   "outputs": [],
   "source": [
    "import matplotlib.pyplot as plt"
   ]
  },
  {
   "cell_type": "code",
   "execution_count": 13,
   "id": "607ab4d8-e8d1-4a1b-938d-d39c5bfdabbe",
   "metadata": {},
   "outputs": [
    {
     "data": {
      "text/plain": [
       "<Axes: ylabel='count'>"
      ]
     },
     "execution_count": 13,
     "metadata": {},
     "output_type": "execute_result"
    },
    {
     "data": {
      "image/png": "[encoded data removed]",
      "text/plain": [
       "<Figure size 1000x1000 with 1 Axes>"
      ]
     },
     "metadata": {},
     "output_type": "display_data"
    }
   ],
   "source": [
    "labels = [\"Kültür-Sanat\", \"Ekonomi\", \"Siyaset\", \"Eğitim\", \"Dünya\", \"Spor\", \"Teknoloji\", \"Magazin\", \"Sağlık\", \"Gündem\"]\n",
    "fig, ax = plt.subplots(1, 1, figsize=(10,10))\n",
    "df_train['category'].value_counts().plot.pie(autopct = '%1.1f%%', labels=labels)"
   ]
  },
  {
   "cell_type": "markdown",
   "id": "a2de3ff3-af5e-4084-a712-ef3ee3554ab5",
   "metadata": {},
   "source": [
    "# Veri Hazırlığı"
   ]
  },
  {
   "cell_type": "markdown",
   "id": "ba7b0cac-fbdb-4c38-850d-c709587b0761",
   "metadata": {},
   "source": [
    "### PATH_STOPWORDS_TR\n",
    "\n",
    "Bu değişken, Türkçe durdurma kelimeleri (metin işlemede sıklıkla filtrelenen yaygın kelimeler) içeren bir dosyanın yolunu depolar. .pkl dosya uzantısı, bunun bir salamura veri dosyası olduğunu gösterir.\n",
    "\n",
    "### PATH_BLACKLIST_TR\n",
    "\n",
    "Bu değişken, Türkçe metne özgü engellenmiş kelimeler (bazı nedenlerden dolayı dışarıda bırakılması gereken kelimeler) içeren bir dosyanın yolunu depolar. Yine, .pkl uzantısı, bunun bir salamura veri dosyası olduğunu gösterir."
   ]
  },
  {
   "cell_type": "code",
   "execution_count": 14,
   "id": "ab382891-1c20-4939-b0cb-24b1ae1dff75",
   "metadata": {},
   "outputs": [],
   "source": [
    "import re\n",
    "import string\n",
    "import pickle\n",
    "from collections import defaultdict\n",
    "\n",
    "PATH_STOPWORDS_TR = 'data/stopwords_tr_interpress.pkl'\n",
    "PATH_BLACKLIST_TR = 'data/tr-blacklist.pkl'"
   ]
  },
  {
   "cell_type": "markdown",
   "id": "c6c5ebaa-39c3-434d-bc9c-215571ef3e9e",
   "metadata": {},
   "source": [
    "## Temizleme Fonksiyonları"
   ]
  },
  {
   "cell_type": "markdown",
   "id": "57ef6ca5-375d-4dc8-9bb6-1cfadb275211",
   "metadata": {},
   "source": [
    "Bu fonksiyonlar, Türkçe metinleri çeşitli açılardan temizlemek için kapsamlı bir araç seti sunar. Durdurma kelimeleri, kara liste kelimeleri, URL'ler,\n",
    "e-posta adresleri, noktalama işaretleri, sayılar, ek takılar gibi istenmeyen öğeleri metinden kaldırarak daha temiz ve işlenebilir bir metin elde etmeyi sağlar. Her fonksiyon belirli bir amaca hizmet eder ve birlikte kullanıldığında metin ön işleme ve temizleme işlemlerinde oldukça faydalı olabilirler."
   ]
  },
  {
   "cell_type": "code",
   "execution_count": 15,
   "id": "10804147-1579-4c02-8ae8-cafc22d26683",
   "metadata": {},
   "outputs": [],
   "source": [
    "#  load stopwords\n",
    "def get_stopwords():\n",
    "    try:\n",
    "        with open(PATH_STOPWORDS_TR, 'rb') as data_file:\n",
    "            return pickle.load(data_file)\n",
    "    except IOError as exc:\n",
    "        raise IOError(\"No such stopwords file! Error: \" + str(exc))\n",
    "\n",
    "#  load blacklist\n",
    "def get_blacklist():\n",
    "    try:\n",
    "        with open(PATH_BLACKLIST_TR, 'rb') as data_file:\n",
    "            return pickle.load(data_file)\n",
    "    except IOError as exc:\n",
    "        raise IOError(\"No such stopwords file! Error: \" + str(exc))\n",
    "\n",
    "#  cleaning stopwords\n",
    "def clean_stopwords(content):\n",
    "    # content: str\n",
    "    content = content.split(\" \")\n",
    "    filtered_list = []\n",
    "    stopwords = get_stopwords()\n",
    "    for word in content:\n",
    "        if word not in stopwords:\n",
    "            filtered_list.append(word)\n",
    "\n",
    "    text = ' '.join(filtered_list)\n",
    "    return text\n",
    "\n",
    "#  cleaning blacklist\n",
    "def clean_blacklist(content):\n",
    "    # content: str\n",
    "    # return: str\n",
    "    content = content.split(\" \")\n",
    "    filtered_list = []\n",
    "    blacklist = get_blacklist()\n",
    "    for word in content:\n",
    "        if word not in blacklist:\n",
    "            filtered_list.append(word)\n",
    "\n",
    "    text = ' '.join(filtered_list)\n",
    "    return text"
   ]
  },
  {
   "cell_type": "markdown",
   "id": "90e27f82-2cc6-4983-955c-c44afd9582bf",
   "metadata": {},
   "source": [
    "1. get_stopwords ve get_blacklist:\n",
    "\n",
    "Her ikisi de önceden kaydedilmiş dosyalardan verileri yükler. \n",
    "get_stopwords fonksiyonu, Türkçe metinlerinde sıklıkla kullanılan ve anlamsız sayılabilecek kelimeleri içeren bir dosyadan (PATH_STOPWORDS_TR) verileri yükler.\n",
    "Bu kelimeler, stopwords olarak adlandırılır. get_blacklist fonksiyonu ise Türkçe metinlerinde istenmeyen kelimeleri içeren bir dosyadan (PATH_BLACKLIST_TR) verileri yükler.\n",
    "Bu kelimeler, kara liste olarak adlandırılır. Her iki fonksiyon da veri yükleme işlemi sırasında hata oluşursa bir istisna fırlatır.\n",
    "\n",
    "2. clean_stopwords:\n",
    "\n",
    "Bu fonksiyon bir metin alır (content) ve get_stopwords fonksiyonundan yüklediği durdurma kelimelerini (stopwords) kullanarak metni temizler. Metni boşluklara göre ayırır (split), ardından her kelimeyi durdurma kelimeleri listesinde arar. Eğer kelime listede değilse, temizlenen metin listesine (filtered_list) eklenir. Son olarak, temizlenen metin listesini tekrar birleştirir (join) ve döndürür.\n",
    "\n",
    "3. clean_blacklist:\n",
    "\n",
    "clean_stopwords fonksiyonuna benzer şekilde clean_blacklist fonksiyonu da bir metin alır (content) ve get_blacklist fonksiyonundan yüklediği kara liste kelimelerini kullanarak metni temizler. Metni boşluklara göre ayırır, her kelimeyi kara listede arar ve kara listede olmayan kelimeleri temizlenen metin listesine ekler. Son olarak, temizlenen metin listesini birleştirir ve döndürür."
   ]
  },
  {
   "cell_type": "code",
   "execution_count": 16,
   "id": "ba41dc77-2949-4ff8-a42f-e96f68187226",
   "metadata": {},
   "outputs": [
    {
     "data": {
      "text/plain": [
       "'\\nBu fonksiyon, metin temizleme işleminin ana fonksiyonudur.\\nBir metin alır (content) ve çeşitli temizleme adımlarından geçirir.\\nÖncelikle metni küçük harfe çevirir (lower).\\n'"
      ]
     },
     "execution_count": 16,
     "metadata": {},
     "output_type": "execute_result"
    }
   ],
   "source": [
    "#  cleaning URLs\n",
    "def clean_url(content):\n",
    "    reg_url = r'''(?i)\\b((?:https?://|www\\d{0,3}[.]|[a-z0-9.\\-]+[.][a-z]{2,4}/)(?:[^\\s()<>]+|\\(([^\\s()<>]+|(\\([^\\s()<>]+\\)))*\\))+(?:\\(([^\\s()<>]+|(\\([^\\s()<>]+\\)))*\\)|[^\\s`!()\\[\\]{};:'\".,<>?«»“”‘’]))'''\n",
    "    pattern_url = re.compile(reg_url)\n",
    "    content = pattern_url.sub('',content)\n",
    "    return content\n",
    "\n",
    "\"\"\"\n",
    "Bu fonksiyon bir metin alır (content) ve metindeki URL'leri temizler.\n",
    "Düzenli ifadeler (re) kütüphanesini kullanarak URL kalıplarını tanımlar ve metindeki bu kalıpları boş bir ifade ile değiştirir.\n",
    "Böylece metinden URL'ler silinmiş olur.\n",
    "\"\"\"\n",
    "    \n",
    "#  cleaning e-mails\n",
    "def clean_email(content):\n",
    "    reg_email='\\S*@\\S*\\s?'\n",
    "    pattern_email = re.compile(reg_email)\n",
    "    content = pattern_email.sub('',content)\n",
    "    return content\n",
    "\n",
    "\"\"\"\n",
    "clean_email fonksiyonu da re kütüphanesini kullanarak bir metindeki (content) e-posta adreslerini temizler.\n",
    "E-posta adresi kalıplarını tanımlayan bir düzenli ifade kullanır ve metindeki bu kalıpları boş bir ifade ile değiştirir.\n",
    "\"\"\"\n",
    "    \n",
    "#  cleaning punctuation\n",
    "def clean_punctuation(content):\n",
    "    #regex = re.compile('[%s]' % re.escape(string.punctuation))\n",
    "    #content = regex.sub(\" \", content)\n",
    "    content = content.translate(content.maketrans(\"\", \"\", string.punctuation))\n",
    "    return content\n",
    "\n",
    "\"\"\"\n",
    "Bu fonksiyon bir metin alır (content) ve metindeki noktalama işaretlerini temizler. İki yöntem kullanılabilir:\n",
    "\n",
    "string.punctuation modülünü kullanarak noktalama işaretlerinin bir karakter dizisi oluşturulur ve translate metodu ile metindeki noktalama işaretleri boşluklara dönüştürülür.\n",
    "Yorum satırında belirtildiği gibi, re.compile ile noktalama işaretlerini tanımlayan bir düzenli ifade oluşturulabilir ve sub metodu ile metindeki noktalama işaretleri boşluklara dönüştürülür.\n",
    "\"\"\"\n",
    "    \n",
    "#  cleaning digits\n",
    "def clean_numbers(content):\n",
    "    remove_digits = str.maketrans('', '', string.digits)\n",
    "    text = content.translate(remove_digits)\n",
    "    return text\n",
    "\n",
    "\"\"\"\n",
    "clean_numbers fonksiyonu bir metin alır (content) ve metindeki sayıları temizler.\n",
    "string.digits modülünü kullanarak rakamların bir karakter dizisi oluşturulur ve translate metodu ile metindeki rakamlar boşluklara dönüştürülür.\n",
    "\"\"\"\n",
    "\n",
    "def listToString(text):\n",
    "    #  text: string\n",
    "    #  return: string \n",
    "    str1 = \" \"  \n",
    "    return (str1.join(text)) \n",
    "\n",
    "\"\"\"\n",
    "Bu fonksiyon bir metin listesi alır (text) ve liste elemanlarını boşluk ekleyerek birleştirir. Sonuç olarak, boşluklarla ayrılmış bir metin döndürür.\n",
    "\"\"\"\n",
    "\n",
    "#  cleaning postfix\n",
    "def clean_postfix(content):\n",
    "    #  content: list\n",
    "    #  return: str\n",
    "    spesific_punctation = [39, 8217] # ascii codes of spesific punctations\n",
    "    all_words = defaultdict(list)\n",
    "    counter = 0\n",
    "    for i, word in enumerate(content):\n",
    "        if len(word) > 2:\n",
    "            if chr(8217) in word:\n",
    "                replaced_word = word.replace(chr(8217), \" \")  #  clean for ’\n",
    "                replaced_word = replaced_word.split(\" \")[0]\n",
    "                all_words[i].append(replaced_word)\n",
    "            elif chr(39) in word:\n",
    "                replaced_word = word.replace(chr(39), \" \")  # clean for '\n",
    "                replaced_word = replaced_word.split(\" \")[0]\n",
    "                all_words[i].append(replaced_word)\n",
    "            else:\n",
    "                all_words[i].append(word)\n",
    "    all_words = sorted(all_words.items())\n",
    "\n",
    "    text = \"\"\n",
    "    for i in range(len(all_words)):\n",
    "        text = text + \" \" + all_words[i][1][0]\n",
    "\n",
    "    return text\n",
    "\n",
    "\"\"\"\n",
    "Bu fonksiyon biraz daha karmaşık. Bir metin listesi alır (content) ve Türkçe metinlerde sık karşılaşılan ek takıları (Venezuela'nın gibi) temizler.\n",
    "Belirli noktalama işaretlerinin (', ’) ascii kodlarını kullanarak kelimeleri ayırır ve ek takıları siler.\n",
    "Son olarak, temizlenen kelimeleri bir cümle olarak birleştirir ve döndürür.\n",
    "\"\"\"\n",
    "\n",
    "def clean_text(content):\n",
    "    #  text: string\n",
    "    #  return: string\n",
    "    content = content.lower()\n",
    "    cleaned_email = clean_email(content)\n",
    "    cleaned_email_url = clean_url(cleaned_email)\n",
    "    cleaned_email_url = listToString(cleaned_email_url.split(\".\"))\n",
    "    cleaned_email_url = cleaned_email_url.split(\" \")\n",
    "    cleaned_email_url_postfix = clean_postfix(cleaned_email_url)\n",
    "    cleaned_email_url_postfix_punctuation = clean_punctuation(cleaned_email_url_postfix)\n",
    "    cleaned_email_url_postfix_punctuation_numbers = clean_numbers(cleaned_email_url_postfix_punctuation)\n",
    "    cleaned_email_url_postfix_punctuation_numbers_stopwords = clean_stopwords(cleaned_email_url_postfix_punctuation_numbers)\n",
    "    cleaned_email_url_postfix_punctuation_numbers_stopwords_blacklist = clean_blacklist(cleaned_email_url_postfix_punctuation_numbers_stopwords)\n",
    "\n",
    "    filtered_sentence = []\n",
    "    for word in cleaned_email_url_postfix_punctuation_numbers_stopwords_blacklist.split(\" \"):\n",
    "        if len(word) > 2:\n",
    "            filtered_sentence.append(word)\n",
    "    \n",
    "    text = ' '.join(filtered_sentence)\n",
    "    return text\n",
    "\"\"\"\n",
    "Bu fonksiyon, metin temizleme işleminin ana fonksiyonudur.\n",
    "Bir metin alır (content) ve çeşitli temizleme adımlarından geçirir.\n",
    "Öncelikle metni küçük harfe çevirir (lower).\n",
    "\"\"\"\n",
    "    \n",
    "    "
   ]
  },
  {
   "cell_type": "code",
   "execution_count": 17,
   "id": "55bcd094-7d3d-4e42-b12e-c505ef8decc8",
   "metadata": {},
   "outputs": [
    {
     "data": {
      "text/plain": [
       "'CAJA SINAVI YARIN -#% BEŞİKTAŞ Erkek Basketbol f Takımı, THY Euroleague de yarın Caja Laboral ile karşılaşacak. Siyah-beyazlılar, grubun 10. maçında saat 20.00 de Abdi İpekçi Arena da Caja Laboral ı ağırlayacak. Beşiktaş ın TOP 16 F Grubu nda oynadığı 9 karşılaşmada henüz galibiyeti bulunmazken, Caja nın 9 maçta 4 zaferi var.'"
      ]
     },
     "execution_count": 17,
     "metadata": {},
     "output_type": "execute_result"
    }
   ],
   "source": [
    "df_train.content[1265]"
   ]
  },
  {
   "cell_type": "code",
   "execution_count": 18,
   "id": "3acd3f0a-e3d5-4454-9fda-f175e801166a",
   "metadata": {},
   "outputs": [
    {
     "data": {
      "text/plain": [
       "'Spor'"
      ]
     },
     "execution_count": 18,
     "metadata": {},
     "output_type": "execute_result"
    }
   ],
   "source": [
    "labels[df_train.category[1265]]"
   ]
  },
  {
   "cell_type": "code",
   "execution_count": 19,
   "id": "202527ed-a274-4381-a8b7-ad142fca068b",
   "metadata": {
    "scrolled": true
   },
   "outputs": [
    {
     "data": {
      "text/plain": [
       "'caja sinavi yarin beşi̇ktaş erkek basketbol takımı thy euroleague yarın caja laboral karşılaşacak siyahbeyazlılar grubun maçında abdi i̇pekçi arena caja laboral ağırlayacak beşiktaş top grubu nda oynadığı karşılaşmada galibiyeti bulunmazken caja maçta zaferi'"
      ]
     },
     "execution_count": 19,
     "metadata": {},
     "output_type": "execute_result"
    }
   ],
   "source": [
    "clean_text(df_train.content[1265])"
   ]
  },
  {
   "cell_type": "markdown",
   "id": "91793bc0-323c-4dc7-b925-46c044a968dd",
   "metadata": {},
   "source": [
    "Clean_text fonksiyonunu tüm veri setimize uygulayarak temizlenmiş yeni veriyi DataFrame'mimize yeni sütün olarak ekliyoruz ve ilerideki işlemlerimizi bu temizlenmiş veri üzerinden gideceğiz."
   ]
  },
  {
   "cell_type": "markdown",
   "id": "99f8842e-c6a6-4038-818b-0f01fea7a5d5",
   "metadata": {},
   "source": [
    "## Veri Temizleme"
   ]
  },
  {
   "cell_type": "code",
   "execution_count": 20,
   "id": "6496a742-5ce0-40e6-9cce-b1c01435c4ea",
   "metadata": {},
   "outputs": [],
   "source": [
    "cleaning = lambda x: clean_text(x)\n",
    "df_train['clean_content'] = df_train['content'].apply(cleaning)"
   ]
  },
  {
   "cell_type": "code",
   "execution_count": 21,
   "id": "806c469b-1300-4f77-919d-75762010e36f",
   "metadata": {
    "scrolled": true
   },
   "outputs": [
    {
     "data": {
      "text/html": [
       "<div>\n",
       "<style scoped>\n",
       "    .dataframe tbody tr th:only-of-type {\n",
       "        vertical-align: middle;\n",
       "    }\n",
       "\n",
       "    .dataframe tbody tr th {\n",
       "        vertical-align: top;\n",
       "    }\n",
       "\n",
       "    .dataframe thead th {\n",
       "        text-align: right;\n",
       "    }\n",
       "</style>\n",
       "<table border=\"1\" class=\"dataframe\">\n",
       "  <thead>\n",
       "    <tr style=\"text-align: right;\">\n",
       "      <th></th>\n",
       "      <th>content</th>\n",
       "      <th>category</th>\n",
       "      <th>clean_content</th>\n",
       "    </tr>\n",
       "  </thead>\n",
       "  <tbody>\n",
       "    <tr>\n",
       "      <th>0</th>\n",
       "      <td>Tarihten Sınıfta Kaldık Bugün tarihe damgasını...</td>\n",
       "      <td>0</td>\n",
       "      <td>tarihten sınıfta kaldık bugün tarihe damgasını...</td>\n",
       "    </tr>\n",
       "    <tr>\n",
       "      <th>1</th>\n",
       "      <td>clş ve yatırım ortamı iyileştiriliyor, bürokra...</td>\n",
       "      <td>1</td>\n",
       "      <td>clş yatırım ortamı iyileştiriliyor bürokrasi a...</td>\n",
       "    </tr>\n",
       "    <tr>\n",
       "      <th>2</th>\n",
       "      <td>Animasyon meraklıları için! Yönetmen: Jennifer...</td>\n",
       "      <td>0</td>\n",
       "      <td>animasyon meraklıları yönetmen jenniferyuh ses...</td>\n",
       "    </tr>\n",
       "    <tr>\n",
       "      <th>3</th>\n",
       "      <td>İTİ BEEF JJ SVftSL ff 44     BEEFSFISH 16)2016...</td>\n",
       "      <td>0</td>\n",
       "      <td>i̇ti̇ beef svftsl beefsfish kirmizi eti̇n fran...</td>\n",
       "    </tr>\n",
       "    <tr>\n",
       "      <th>4</th>\n",
       "      <td>LPG Dolum - Boşaltım kursu KTSO da yapıldı Kar...</td>\n",
       "      <td>1</td>\n",
       "      <td>lpg dolum boşaltım kursu ktso yapıldı karaman ...</td>\n",
       "    </tr>\n",
       "    <tr>\n",
       "      <th>...</th>\n",
       "      <td>...</td>\n",
       "      <td>...</td>\n",
       "      <td>...</td>\n",
       "    </tr>\n",
       "    <tr>\n",
       "      <th>21883</th>\n",
       "      <td>KİM MARKET 72. mağazasını Büyükçekmece de açtı...</td>\n",
       "      <td>1</td>\n",
       "      <td>ki̇m market mağazasını büyükçekmece açtı marke...</td>\n",
       "    </tr>\n",
       "    <tr>\n",
       "      <th>21884</th>\n",
       "      <td>Uche ve Yasin bitti PTT 1. Lig ekiplerinden Ga...</td>\n",
       "      <td>5</td>\n",
       "      <td>uche yasin bitti ptt lig ekiplerinden gaziante...</td>\n",
       "    </tr>\n",
       "    <tr>\n",
       "      <th>21885</th>\n",
       "      <td>Korcan Cicinho Navratil Ümit Ziya Burhan Mehdi...</td>\n",
       "      <td>5</td>\n",
       "      <td>korcan cicinho navratil ümit ziya burhan mehdi...</td>\n",
       "    </tr>\n",
       "    <tr>\n",
       "      <th>21886</th>\n",
       "      <td>Gölcükspor eski futbolcularını topladı 3. Lig ...</td>\n",
       "      <td>5</td>\n",
       "      <td>gölcükspor eski futbolcularını topladı lig tem...</td>\n",
       "    </tr>\n",
       "    <tr>\n",
       "      <th>21887</th>\n",
       "      <td>Sağlık ve Huzur için Hattuşa Astrya Thermal Re...</td>\n",
       "      <td>0</td>\n",
       "      <td>sağlık huzur hattuşa astrya thermal resort spa...</td>\n",
       "    </tr>\n",
       "  </tbody>\n",
       "</table>\n",
       "<p>21888 rows × 3 columns</p>\n",
       "</div>"
      ],
      "text/plain": [
       "                                                 content  category  \\\n",
       "0      Tarihten Sınıfta Kaldık Bugün tarihe damgasını...         0   \n",
       "1      clş ve yatırım ortamı iyileştiriliyor, bürokra...         1   \n",
       "2      Animasyon meraklıları için! Yönetmen: Jennifer...         0   \n",
       "3      İTİ BEEF JJ SVftSL ff 44     BEEFSFISH 16)2016...         0   \n",
       "4      LPG Dolum - Boşaltım kursu KTSO da yapıldı Kar...         1   \n",
       "...                                                  ...       ...   \n",
       "21883  KİM MARKET 72. mağazasını Büyükçekmece de açtı...         1   \n",
       "21884  Uche ve Yasin bitti PTT 1. Lig ekiplerinden Ga...         5   \n",
       "21885  Korcan Cicinho Navratil Ümit Ziya Burhan Mehdi...         5   \n",
       "21886  Gölcükspor eski futbolcularını topladı 3. Lig ...         5   \n",
       "21887  Sağlık ve Huzur için Hattuşa Astrya Thermal Re...         0   \n",
       "\n",
       "                                           clean_content  \n",
       "0      tarihten sınıfta kaldık bugün tarihe damgasını...  \n",
       "1      clş yatırım ortamı iyileştiriliyor bürokrasi a...  \n",
       "2      animasyon meraklıları yönetmen jenniferyuh ses...  \n",
       "3      i̇ti̇ beef svftsl beefsfish kirmizi eti̇n fran...  \n",
       "4      lpg dolum boşaltım kursu ktso yapıldı karaman ...  \n",
       "...                                                  ...  \n",
       "21883  ki̇m market mağazasını büyükçekmece açtı marke...  \n",
       "21884  uche yasin bitti ptt lig ekiplerinden gaziante...  \n",
       "21885  korcan cicinho navratil ümit ziya burhan mehdi...  \n",
       "21886  gölcükspor eski futbolcularını topladı lig tem...  \n",
       "21887  sağlık huzur hattuşa astrya thermal resort spa...  \n",
       "\n",
       "[21888 rows x 3 columns]"
      ]
     },
     "execution_count": 21,
     "metadata": {},
     "output_type": "execute_result"
    }
   ],
   "source": [
    "df_train"
   ]
  },
  {
   "cell_type": "code",
   "execution_count": 22,
   "id": "51e264fd-3166-495b-a7c3-228607c9b2e3",
   "metadata": {},
   "outputs": [],
   "source": [
    "df_test['clean_content'] = df_test['content'].apply(cleaning)"
   ]
  },
  {
   "cell_type": "code",
   "execution_count": 23,
   "id": "5593a522-ed4e-4d77-a2fe-f366f2196b03",
   "metadata": {},
   "outputs": [
    {
     "data": {
      "text/html": [
       "<div>\n",
       "<style scoped>\n",
       "    .dataframe tbody tr th:only-of-type {\n",
       "        vertical-align: middle;\n",
       "    }\n",
       "\n",
       "    .dataframe tbody tr th {\n",
       "        vertical-align: top;\n",
       "    }\n",
       "\n",
       "    .dataframe thead th {\n",
       "        text-align: right;\n",
       "    }\n",
       "</style>\n",
       "<table border=\"1\" class=\"dataframe\">\n",
       "  <thead>\n",
       "    <tr style=\"text-align: right;\">\n",
       "      <th></th>\n",
       "      <th>content</th>\n",
       "      <th>category</th>\n",
       "      <th>clean_content</th>\n",
       "    </tr>\n",
       "  </thead>\n",
       "  <tbody>\n",
       "    <tr>\n",
       "      <th>0</th>\n",
       "      <td>50 yıldır yükselen enerji: Aygaz TÜRK HALKINI ...</td>\n",
       "      <td>1</td>\n",
       "      <td>yıldır yükselen enerji aygaz türk halkini tüpg...</td>\n",
       "    </tr>\n",
       "    <tr>\n",
       "      <th>1</th>\n",
       "      <td>Onur Akyıl Bir insan kadar mutsuzBir insan kad...</td>\n",
       "      <td>0</td>\n",
       "      <td>onur akyıl insan mutsuzbir insan mutsuzi onur ...</td>\n",
       "    </tr>\n",
       "    <tr>\n",
       "      <th>2</th>\n",
       "      <td>. yolculuk GÜNEYLİ SARIŞIN: REESE WITHERSPOON ...</td>\n",
       "      <td>0</td>\n",
       "      <td>yolculuk güneyli̇ sarişin reese witherspoon ya...</td>\n",
       "    </tr>\n",
       "    <tr>\n",
       "      <th>3</th>\n",
       "      <td>Doğru tercih yapan hiçbir aday açıkta kalmayac...</td>\n",
       "      <td>3</td>\n",
       "      <td>doğru tercih yapan aday açıkta kalmayacak aday...</td>\n",
       "    </tr>\n",
       "    <tr>\n",
       "      <th>4</th>\n",
       "      <td>De Jong için sıraya girdiler   SERİE A ekipler...</td>\n",
       "      <td>5</td>\n",
       "      <td>jong sıraya girdiler seri̇e ekiplerinden lan b...</td>\n",
       "    </tr>\n",
       "    <tr>\n",
       "      <th>...</th>\n",
       "      <td>...</td>\n",
       "      <td>...</td>\n",
       "      <td>...</td>\n",
       "    </tr>\n",
       "    <tr>\n",
       "      <th>5467</th>\n",
       "      <td>ARDAĞIN ZİRVESİNDE jj-  Amasya Üniversitesi öğ...</td>\n",
       "      <td>0</td>\n",
       "      <td>ardağin zi̇rvesi̇nde amasya üniversitesi öğren...</td>\n",
       "    </tr>\n",
       "    <tr>\n",
       "      <th>5468</th>\n",
       "      <td>Yıldız oyuncular Burası, Gıoyneth Paltroıo un ...</td>\n",
       "      <td>0</td>\n",
       "      <td>yıldız oyuncular burası gıoyneth paltroıo hala...</td>\n",
       "    </tr>\n",
       "    <tr>\n",
       "      <th>5469</th>\n",
       "      <td>KAYSERİ Yİ HER ZAMAN BEĞENİYORUZ Kayserini! ta...</td>\n",
       "      <td>0</td>\n",
       "      <td>kayseri̇ yi̇ zaman beğeni̇yoruz kayserini tari...</td>\n",
       "    </tr>\n",
       "    <tr>\n",
       "      <th>5470</th>\n",
       "      <td>KÖŞE YAZARLARI Büyük veri devriminin evrimleşe...</td>\n",
       "      <td>6</td>\n",
       "      <td>köşe yazarlari büyük veri devriminin evrimleşe...</td>\n",
       "    </tr>\n",
       "    <tr>\n",
       "      <th>5471</th>\n",
       "      <td>Cennetin kalbine doğru keyifli bir yolculuğa ç...</td>\n",
       "      <td>0</td>\n",
       "      <td>cennetin kalbine doğru keyifli yolculuğa çıkıy...</td>\n",
       "    </tr>\n",
       "  </tbody>\n",
       "</table>\n",
       "<p>5472 rows × 3 columns</p>\n",
       "</div>"
      ],
      "text/plain": [
       "                                                content  category  \\\n",
       "0     50 yıldır yükselen enerji: Aygaz TÜRK HALKINI ...         1   \n",
       "1     Onur Akyıl Bir insan kadar mutsuzBir insan kad...         0   \n",
       "2     . yolculuk GÜNEYLİ SARIŞIN: REESE WITHERSPOON ...         0   \n",
       "3     Doğru tercih yapan hiçbir aday açıkta kalmayac...         3   \n",
       "4     De Jong için sıraya girdiler   SERİE A ekipler...         5   \n",
       "...                                                 ...       ...   \n",
       "5467  ARDAĞIN ZİRVESİNDE jj-  Amasya Üniversitesi öğ...         0   \n",
       "5468  Yıldız oyuncular Burası, Gıoyneth Paltroıo un ...         0   \n",
       "5469  KAYSERİ Yİ HER ZAMAN BEĞENİYORUZ Kayserini! ta...         0   \n",
       "5470  KÖŞE YAZARLARI Büyük veri devriminin evrimleşe...         6   \n",
       "5471  Cennetin kalbine doğru keyifli bir yolculuğa ç...         0   \n",
       "\n",
       "                                          clean_content  \n",
       "0     yıldır yükselen enerji aygaz türk halkini tüpg...  \n",
       "1     onur akyıl insan mutsuzbir insan mutsuzi onur ...  \n",
       "2     yolculuk güneyli̇ sarişin reese witherspoon ya...  \n",
       "3     doğru tercih yapan aday açıkta kalmayacak aday...  \n",
       "4     jong sıraya girdiler seri̇e ekiplerinden lan b...  \n",
       "...                                                 ...  \n",
       "5467  ardağin zi̇rvesi̇nde amasya üniversitesi öğren...  \n",
       "5468  yıldız oyuncular burası gıoyneth paltroıo hala...  \n",
       "5469  kayseri̇ yi̇ zaman beğeni̇yoruz kayserini tari...  \n",
       "5470  köşe yazarlari büyük veri devriminin evrimleşe...  \n",
       "5471  cennetin kalbine doğru keyifli yolculuğa çıkıy...  \n",
       "\n",
       "[5472 rows x 3 columns]"
      ]
     },
     "execution_count": 23,
     "metadata": {},
     "output_type": "execute_result"
    }
   ],
   "source": [
    "df_test"
   ]
  },
  {
   "cell_type": "markdown",
   "id": "8f0cbfec-1213-40d4-b56d-f838ea3182ad",
   "metadata": {},
   "source": [
    "## Temizlenmiş Verilerimizi Pickle Formatında Kaydediyoruz"
   ]
  },
  {
   "cell_type": "code",
   "execution_count": 24,
   "id": "67d3f349-5b0c-458f-bb12-c03f0f97801f",
   "metadata": {},
   "outputs": [],
   "source": [
    "df_train.to_pickle('data/news_tr_train_cleaned.pkl')\n",
    "df_test.to_pickle('data/news_tr_test_cleaned.pkl')"
   ]
  }
 ],
 "metadata": {
  "kernelspec": {
   "display_name": "Python 3 (ipykernel)",
   "language": "python",
   "name": "python3"
  },
  "language_info": {
   "codemirror_mode": {
    "name": "ipython",
    "version": 3
   },
   "file_extension": ".py",
   "mimetype": "text/x-python",
   "name": "python",
   "nbconvert_exporter": "python",
   "pygments_lexer": "ipython3",
   "version": "3.12.1"
  }
 },
 "nbformat": 4,
 "nbformat_minor": 5
}
